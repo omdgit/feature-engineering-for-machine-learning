{
 "cells": [
  {
   "cell_type": "markdown",
   "metadata": {},
   "source": [
    "## Assembling a Feature Engineering Pipeline with Feature-engine and Cross-validation\n",
    "\n",
    "[Feature Engineering for Machine Learning Course](https://www.trainindata.com/p/feature-engineering-for-machine-learning)\n",
    "\n",
    "In this notebook, I will show you how to use Feature-engine within the Scikit-learn pipeline, utilizing cross-validation. \n",
    "\n",
    "I will:\n",
    "- build a gradient boosted tree\n",
    "- use feature-engine for the feature engineering steps\n",
    "- set up an entire engineering and prediction pipeline using a Scikit-learn Pipeline\n",
    "- train the pipeline with cross-validation, looking over different feature-engineering parameters\n",
    "\n",
    "============================================================================\n",
    "\n",
    "## In this demo:\n",
    "\n",
    "We will use the titanic dataset, please refer to lecture **Datasets** in Section 1 of the course for instructions on how to download and prepare this dataset."
   ]
  },
  {
   "cell_type": "code",
   "execution_count": 1,
   "metadata": {},
   "outputs": [],
   "source": [
    "import pandas as pd\n",
    "import numpy as np\n",
    "import matplotlib.pyplot as plt\n",
    "\n",
    "# for the model\n",
    "from sklearn.model_selection import train_test_split, GridSearchCV\n",
    "from sklearn.ensemble import GradientBoostingClassifier\n",
    "from sklearn.metrics import roc_auc_score\n",
    "from sklearn.pipeline import Pipeline\n",
    "\n",
    "from xgboost import XGBClassifier\n",
    "\n",
    "# for feature engineering\n",
    "from feature_engine import imputation as mdi\n",
    "from feature_engine import discretisation as dsc\n",
    "from feature_engine import encoding as ce"
   ]
  },
  {
   "cell_type": "code",
   "execution_count": 2,
   "metadata": {},
   "outputs": [
    {
     "data": {
      "text/html": [
       "<div>\n",
       "<style scoped>\n",
       "    .dataframe tbody tr th:only-of-type {\n",
       "        vertical-align: middle;\n",
       "    }\n",
       "\n",
       "    .dataframe tbody tr th {\n",
       "        vertical-align: top;\n",
       "    }\n",
       "\n",
       "    .dataframe thead th {\n",
       "        text-align: right;\n",
       "    }\n",
       "</style>\n",
       "<table border=\"1\" class=\"dataframe\">\n",
       "  <thead>\n",
       "    <tr style=\"text-align: right;\">\n",
       "      <th></th>\n",
       "      <th>pclass</th>\n",
       "      <th>survived</th>\n",
       "      <th>sex</th>\n",
       "      <th>age</th>\n",
       "      <th>sibsp</th>\n",
       "      <th>parch</th>\n",
       "      <th>fare</th>\n",
       "      <th>cabin</th>\n",
       "      <th>embarked</th>\n",
       "    </tr>\n",
       "  </thead>\n",
       "  <tbody>\n",
       "    <tr>\n",
       "      <th>0</th>\n",
       "      <td>1</td>\n",
       "      <td>1</td>\n",
       "      <td>female</td>\n",
       "      <td>29.0000</td>\n",
       "      <td>0</td>\n",
       "      <td>0</td>\n",
       "      <td>211.3375</td>\n",
       "      <td>B5</td>\n",
       "      <td>S</td>\n",
       "    </tr>\n",
       "    <tr>\n",
       "      <th>1</th>\n",
       "      <td>1</td>\n",
       "      <td>1</td>\n",
       "      <td>male</td>\n",
       "      <td>0.9167</td>\n",
       "      <td>1</td>\n",
       "      <td>2</td>\n",
       "      <td>151.5500</td>\n",
       "      <td>C22</td>\n",
       "      <td>S</td>\n",
       "    </tr>\n",
       "    <tr>\n",
       "      <th>2</th>\n",
       "      <td>1</td>\n",
       "      <td>0</td>\n",
       "      <td>female</td>\n",
       "      <td>2.0000</td>\n",
       "      <td>1</td>\n",
       "      <td>2</td>\n",
       "      <td>151.5500</td>\n",
       "      <td>C22</td>\n",
       "      <td>S</td>\n",
       "    </tr>\n",
       "    <tr>\n",
       "      <th>3</th>\n",
       "      <td>1</td>\n",
       "      <td>0</td>\n",
       "      <td>male</td>\n",
       "      <td>30.0000</td>\n",
       "      <td>1</td>\n",
       "      <td>2</td>\n",
       "      <td>151.5500</td>\n",
       "      <td>C22</td>\n",
       "      <td>S</td>\n",
       "    </tr>\n",
       "    <tr>\n",
       "      <th>4</th>\n",
       "      <td>1</td>\n",
       "      <td>0</td>\n",
       "      <td>female</td>\n",
       "      <td>25.0000</td>\n",
       "      <td>1</td>\n",
       "      <td>2</td>\n",
       "      <td>151.5500</td>\n",
       "      <td>C22</td>\n",
       "      <td>S</td>\n",
       "    </tr>\n",
       "  </tbody>\n",
       "</table>\n",
       "</div>"
      ],
      "text/plain": [
       "   pclass  survived     sex      age  sibsp  parch      fare cabin embarked\n",
       "0       1         1  female  29.0000      0      0  211.3375    B5        S\n",
       "1       1         1    male   0.9167      1      2  151.5500   C22        S\n",
       "2       1         0  female   2.0000      1      2  151.5500   C22        S\n",
       "3       1         0    male  30.0000      1      2  151.5500   C22        S\n",
       "4       1         0  female  25.0000      1      2  151.5500   C22        S"
      ]
     },
     "execution_count": 2,
     "metadata": {},
     "output_type": "execute_result"
    }
   ],
   "source": [
    "# load dataset\n",
    "\n",
    "cols = [\n",
    "    'pclass', 'sex', 'age', 'sibsp', 'parch', 'fare', 'cabin',\n",
    "    'embarked', 'survived'\n",
    "]\n",
    "\n",
    "data = pd.read_csv('../Datasets/titanic.csv', usecols=cols)\n",
    "\n",
    "data.head()"
   ]
  },
  {
   "cell_type": "code",
   "execution_count": 3,
   "metadata": {},
   "outputs": [],
   "source": [
    "# Cabin: extract numerical and categorical part and delete original variable\n",
    "\n",
    "data['cabin_num'] = data['cabin'].str.extract('(\\d+)') # captures numerical part\n",
    "data['cabin_num'] = data['cabin_num'].astype('float')\n",
    "data['cabin_cat'] = data['cabin'].str[0] # captures the first letter\n",
    "\n",
    "data.drop(['cabin'], axis=1, inplace=True)"
   ]
  },
  {
   "cell_type": "code",
   "execution_count": 4,
   "metadata": {},
   "outputs": [
    {
     "name": "stdout",
     "output_type": "stream",
     "text": [
      "There are 3 discrete variables\n",
      "There are 3 continuous variables\n",
      "There are 3 categorical variables\n"
     ]
    }
   ],
   "source": [
    "# make list of variables types\n",
    "\n",
    "# numerical: discrete and continuous\n",
    "discrete = [\n",
    "    var for var in data.columns if data[var].dtype != 'O' and var != 'survived'\n",
    "    and data[var].nunique() < 10\n",
    "]\n",
    "continuous = [\n",
    "    var for var in data.columns\n",
    "    if data[var].dtype != 'O' and var != 'survived' and var not in discrete\n",
    "]\n",
    "\n",
    "# categorical\n",
    "categorical = [var for var in data.columns if data[var].dtype == 'O']\n",
    "\n",
    "print('There are {} discrete variables'.format(len(discrete)))\n",
    "print('There are {} continuous variables'.format(len(continuous)))\n",
    "print('There are {} categorical variables'.format(len(categorical)))"
   ]
  },
  {
   "cell_type": "code",
   "execution_count": 5,
   "metadata": {},
   "outputs": [
    {
     "data": {
      "text/plain": [
       "((1178, 9), (131, 9))"
      ]
     },
     "execution_count": 5,
     "metadata": {},
     "output_type": "execute_result"
    }
   ],
   "source": [
    "# separate into training and testing set\n",
    "\n",
    "X_train, X_test, y_train, y_test = train_test_split(\n",
    "    data.drop('survived', axis=1),  # predictors\n",
    "    data['survived'],  # target\n",
    "    test_size=0.1,  # percentage of obs in test set\n",
    "    random_state=0)  # seed to ensure reproducibility\n",
    "\n",
    "X_train.shape, X_test.shape"
   ]
  },
  {
   "cell_type": "markdown",
   "metadata": {},
   "source": [
    "### Set up the pipeline"
   ]
  },
  {
   "cell_type": "code",
   "execution_count": 7,
   "metadata": {},
   "outputs": [],
   "source": [
    "titanic_pipe = Pipeline([\n",
    "\n",
    "    # missing data imputation - section 4\n",
    "    ('imputer_num',\n",
    "     mdi.ArbitraryNumberImputer(arbitrary_number=-1,\n",
    "                                variables=['age', 'fare', 'cabin_num'])),\n",
    "    ('imputer_cat',\n",
    "     mdi.CategoricalImputer(variables=['embarked', 'cabin_cat'])),\n",
    "\n",
    "    # categorical encoding - section 6\n",
    "    ('encoder_rare_label',\n",
    "     ce.RareLabelEncoder(tol=0.01,\n",
    "                                    n_categories=2,\n",
    "                                    variables=['embarked', 'cabin_cat'])),\n",
    "    ('categorical_encoder',\n",
    "     ce.OrdinalEncoder(encoding_method='ordered',\n",
    "                                  variables=['cabin_cat', 'sex', 'embarked'])),\n",
    "\n",
    "    # # Gradient Boosted machine\n",
    "    # ('gbm', GradientBoostingClassifier(random_state=0))\n",
    "    # xgboost model\n",
    "    ('xgb', XGBClassifier(random_state=0))\n",
    "])"
   ]
  },
  {
   "cell_type": "markdown",
   "metadata": {},
   "source": [
    "## Set up the Grid ad the cross-validation strategy"
   ]
  },
  {
   "cell_type": "code",
   "execution_count": 10,
   "metadata": {},
   "outputs": [],
   "source": [
    "# now we create the grid with all the parameters that we would like to test\n",
    "\n",
    "param_grid = {\n",
    "    # try different feature engineering parameters\n",
    "    'imputer_num__arbitrary_number': [-1, 99],\n",
    "    'encoder_rare_label__tol': [0.1, 0.2],\n",
    "    'categorical_encoder__encoding_method': ['ordered', 'arbitrary'],\n",
    "    \n",
    "    # try different gradient boosted tree model paramenters\n",
    "    # 'gbm__max_depth': [None, 1, 3],\n",
    "    'xgb__max_depth': [None, 1, 3],\n",
    "}\n",
    "\n",
    "\n",
    "# now we set up the grid search with cross-validation\n",
    "grid_search = GridSearchCV(titanic_pipe, param_grid,\n",
    "                           cv=5, n_jobs=-1, scoring='roc_auc')\n",
    "\n",
    "# cv=5 is the cross-validation steps\n",
    "# no_jobs =-1 indicates to use all available cpus\n",
    "# scoring='roc-auc' indicates to evaluate the model performance with the roc-auc\n",
    "\n",
    "# for more details in the grid parameters visit:\n",
    "# https://scikit-learn.org/stable/modules/generated/sklearn.model_selection.GridSearchCV.html"
   ]
  },
  {
   "cell_type": "code",
   "execution_count": 11,
   "metadata": {},
   "outputs": [
    {
     "name": "stdout",
     "output_type": "stream",
     "text": [
      "best roc-auc from grid search: 0.957\n"
     ]
    }
   ],
   "source": [
    "# and now we train over all the possible combinations of the parameters above\n",
    "grid_search.fit(X_train, y_train)\n",
    "\n",
    "# and we print the best score over the train set\n",
    "print((\"best roc-auc from grid search: %.3f\"\n",
    "       % grid_search.score(X_train, y_train)))"
   ]
  },
  {
   "cell_type": "code",
   "execution_count": 12,
   "metadata": {},
   "outputs": [
    {
     "data": {
      "text/html": [
       "<style>#sk-container-id-1 {color: black;background-color: white;}#sk-container-id-1 pre{padding: 0;}#sk-container-id-1 div.sk-toggleable {background-color: white;}#sk-container-id-1 label.sk-toggleable__label {cursor: pointer;display: block;width: 100%;margin-bottom: 0;padding: 0.3em;box-sizing: border-box;text-align: center;}#sk-container-id-1 label.sk-toggleable__label-arrow:before {content: \"▸\";float: left;margin-right: 0.25em;color: #696969;}#sk-container-id-1 label.sk-toggleable__label-arrow:hover:before {color: black;}#sk-container-id-1 div.sk-estimator:hover label.sk-toggleable__label-arrow:before {color: black;}#sk-container-id-1 div.sk-toggleable__content {max-height: 0;max-width: 0;overflow: hidden;text-align: left;background-color: #f0f8ff;}#sk-container-id-1 div.sk-toggleable__content pre {margin: 0.2em;color: black;border-radius: 0.25em;background-color: #f0f8ff;}#sk-container-id-1 input.sk-toggleable__control:checked~div.sk-toggleable__content {max-height: 200px;max-width: 100%;overflow: auto;}#sk-container-id-1 input.sk-toggleable__control:checked~label.sk-toggleable__label-arrow:before {content: \"▾\";}#sk-container-id-1 div.sk-estimator input.sk-toggleable__control:checked~label.sk-toggleable__label {background-color: #d4ebff;}#sk-container-id-1 div.sk-label input.sk-toggleable__control:checked~label.sk-toggleable__label {background-color: #d4ebff;}#sk-container-id-1 input.sk-hidden--visually {border: 0;clip: rect(1px 1px 1px 1px);clip: rect(1px, 1px, 1px, 1px);height: 1px;margin: -1px;overflow: hidden;padding: 0;position: absolute;width: 1px;}#sk-container-id-1 div.sk-estimator {font-family: monospace;background-color: #f0f8ff;border: 1px dotted black;border-radius: 0.25em;box-sizing: border-box;margin-bottom: 0.5em;}#sk-container-id-1 div.sk-estimator:hover {background-color: #d4ebff;}#sk-container-id-1 div.sk-parallel-item::after {content: \"\";width: 100%;border-bottom: 1px solid gray;flex-grow: 1;}#sk-container-id-1 div.sk-label:hover label.sk-toggleable__label {background-color: #d4ebff;}#sk-container-id-1 div.sk-serial::before {content: \"\";position: absolute;border-left: 1px solid gray;box-sizing: border-box;top: 0;bottom: 0;left: 50%;z-index: 0;}#sk-container-id-1 div.sk-serial {display: flex;flex-direction: column;align-items: center;background-color: white;padding-right: 0.2em;padding-left: 0.2em;position: relative;}#sk-container-id-1 div.sk-item {position: relative;z-index: 1;}#sk-container-id-1 div.sk-parallel {display: flex;align-items: stretch;justify-content: center;background-color: white;position: relative;}#sk-container-id-1 div.sk-item::before, #sk-container-id-1 div.sk-parallel-item::before {content: \"\";position: absolute;border-left: 1px solid gray;box-sizing: border-box;top: 0;bottom: 0;left: 50%;z-index: -1;}#sk-container-id-1 div.sk-parallel-item {display: flex;flex-direction: column;z-index: 1;position: relative;background-color: white;}#sk-container-id-1 div.sk-parallel-item:first-child::after {align-self: flex-end;width: 50%;}#sk-container-id-1 div.sk-parallel-item:last-child::after {align-self: flex-start;width: 50%;}#sk-container-id-1 div.sk-parallel-item:only-child::after {width: 0;}#sk-container-id-1 div.sk-dashed-wrapped {border: 1px dashed gray;margin: 0 0.4em 0.5em 0.4em;box-sizing: border-box;padding-bottom: 0.4em;background-color: white;}#sk-container-id-1 div.sk-label label {font-family: monospace;font-weight: bold;display: inline-block;line-height: 1.2em;}#sk-container-id-1 div.sk-label-container {text-align: center;}#sk-container-id-1 div.sk-container {/* jupyter's `normalize.less` sets `[hidden] { display: none; }` but bootstrap.min.css set `[hidden] { display: none !important; }` so we also need the `!important` here to be able to override the default hidden behavior on the sphinx rendered scikit-learn.org. See: https://github.com/scikit-learn/scikit-learn/issues/21755 */display: inline-block !important;position: relative;}#sk-container-id-1 div.sk-text-repr-fallback {display: none;}</style><div id=\"sk-container-id-1\" class=\"sk-top-container\"><div class=\"sk-text-repr-fallback\"><pre>Pipeline(steps=[(&#x27;imputer_num&#x27;,\n",
       "                 ArbitraryNumberImputer(arbitrary_number=-1,\n",
       "                                        variables=[&#x27;age&#x27;, &#x27;fare&#x27;,\n",
       "                                                   &#x27;cabin_num&#x27;])),\n",
       "                (&#x27;imputer_cat&#x27;,\n",
       "                 CategoricalImputer(variables=[&#x27;embarked&#x27;, &#x27;cabin_cat&#x27;])),\n",
       "                (&#x27;encoder_rare_label&#x27;,\n",
       "                 RareLabelEncoder(n_categories=2, tol=0.1,\n",
       "                                  variables=[&#x27;embarked&#x27;, &#x27;cabin_cat&#x27;])),\n",
       "                (&#x27;categorical_encoder&#x27;,\n",
       "                 OrdinalEncoder(encoding_method=&#x27;arbitrary&#x27;,\n",
       "                                v...\n",
       "                               feature_types=None, gamma=None, gpu_id=None,\n",
       "                               grow_policy=None, importance_type=None,\n",
       "                               interaction_constraints=None, learning_rate=None,\n",
       "                               max_bin=None, max_cat_threshold=None,\n",
       "                               max_cat_to_onehot=None, max_delta_step=None,\n",
       "                               max_depth=3, max_leaves=None,\n",
       "                               min_child_weight=None, missing=nan,\n",
       "                               monotone_constraints=None, n_estimators=100,\n",
       "                               n_jobs=None, num_parallel_tree=None,\n",
       "                               predictor=None, random_state=0, ...))])</pre><b>In a Jupyter environment, please rerun this cell to show the HTML representation or trust the notebook. <br />On GitHub, the HTML representation is unable to render, please try loading this page with nbviewer.org.</b></div><div class=\"sk-container\" hidden><div class=\"sk-item sk-dashed-wrapped\"><div class=\"sk-label-container\"><div class=\"sk-label sk-toggleable\"><input class=\"sk-toggleable__control sk-hidden--visually\" id=\"sk-estimator-id-1\" type=\"checkbox\" ><label for=\"sk-estimator-id-1\" class=\"sk-toggleable__label sk-toggleable__label-arrow\">Pipeline</label><div class=\"sk-toggleable__content\"><pre>Pipeline(steps=[(&#x27;imputer_num&#x27;,\n",
       "                 ArbitraryNumberImputer(arbitrary_number=-1,\n",
       "                                        variables=[&#x27;age&#x27;, &#x27;fare&#x27;,\n",
       "                                                   &#x27;cabin_num&#x27;])),\n",
       "                (&#x27;imputer_cat&#x27;,\n",
       "                 CategoricalImputer(variables=[&#x27;embarked&#x27;, &#x27;cabin_cat&#x27;])),\n",
       "                (&#x27;encoder_rare_label&#x27;,\n",
       "                 RareLabelEncoder(n_categories=2, tol=0.1,\n",
       "                                  variables=[&#x27;embarked&#x27;, &#x27;cabin_cat&#x27;])),\n",
       "                (&#x27;categorical_encoder&#x27;,\n",
       "                 OrdinalEncoder(encoding_method=&#x27;arbitrary&#x27;,\n",
       "                                v...\n",
       "                               feature_types=None, gamma=None, gpu_id=None,\n",
       "                               grow_policy=None, importance_type=None,\n",
       "                               interaction_constraints=None, learning_rate=None,\n",
       "                               max_bin=None, max_cat_threshold=None,\n",
       "                               max_cat_to_onehot=None, max_delta_step=None,\n",
       "                               max_depth=3, max_leaves=None,\n",
       "                               min_child_weight=None, missing=nan,\n",
       "                               monotone_constraints=None, n_estimators=100,\n",
       "                               n_jobs=None, num_parallel_tree=None,\n",
       "                               predictor=None, random_state=0, ...))])</pre></div></div></div><div class=\"sk-serial\"><div class=\"sk-item\"><div class=\"sk-estimator sk-toggleable\"><input class=\"sk-toggleable__control sk-hidden--visually\" id=\"sk-estimator-id-2\" type=\"checkbox\" ><label for=\"sk-estimator-id-2\" class=\"sk-toggleable__label sk-toggleable__label-arrow\">ArbitraryNumberImputer</label><div class=\"sk-toggleable__content\"><pre>ArbitraryNumberImputer(arbitrary_number=-1,\n",
       "                       variables=[&#x27;age&#x27;, &#x27;fare&#x27;, &#x27;cabin_num&#x27;])</pre></div></div></div><div class=\"sk-item\"><div class=\"sk-estimator sk-toggleable\"><input class=\"sk-toggleable__control sk-hidden--visually\" id=\"sk-estimator-id-3\" type=\"checkbox\" ><label for=\"sk-estimator-id-3\" class=\"sk-toggleable__label sk-toggleable__label-arrow\">CategoricalImputer</label><div class=\"sk-toggleable__content\"><pre>CategoricalImputer(variables=[&#x27;embarked&#x27;, &#x27;cabin_cat&#x27;])</pre></div></div></div><div class=\"sk-item\"><div class=\"sk-estimator sk-toggleable\"><input class=\"sk-toggleable__control sk-hidden--visually\" id=\"sk-estimator-id-4\" type=\"checkbox\" ><label for=\"sk-estimator-id-4\" class=\"sk-toggleable__label sk-toggleable__label-arrow\">RareLabelEncoder</label><div class=\"sk-toggleable__content\"><pre>RareLabelEncoder(n_categories=2, tol=0.1, variables=[&#x27;embarked&#x27;, &#x27;cabin_cat&#x27;])</pre></div></div></div><div class=\"sk-item\"><div class=\"sk-estimator sk-toggleable\"><input class=\"sk-toggleable__control sk-hidden--visually\" id=\"sk-estimator-id-5\" type=\"checkbox\" ><label for=\"sk-estimator-id-5\" class=\"sk-toggleable__label sk-toggleable__label-arrow\">OrdinalEncoder</label><div class=\"sk-toggleable__content\"><pre>OrdinalEncoder(encoding_method=&#x27;arbitrary&#x27;,\n",
       "               variables=[&#x27;cabin_cat&#x27;, &#x27;sex&#x27;, &#x27;embarked&#x27;])</pre></div></div></div><div class=\"sk-item\"><div class=\"sk-estimator sk-toggleable\"><input class=\"sk-toggleable__control sk-hidden--visually\" id=\"sk-estimator-id-6\" type=\"checkbox\" ><label for=\"sk-estimator-id-6\" class=\"sk-toggleable__label sk-toggleable__label-arrow\">XGBClassifier</label><div class=\"sk-toggleable__content\"><pre>XGBClassifier(base_score=None, booster=None, callbacks=None,\n",
       "              colsample_bylevel=None, colsample_bynode=None,\n",
       "              colsample_bytree=None, early_stopping_rounds=None,\n",
       "              enable_categorical=False, eval_metric=None, feature_types=None,\n",
       "              gamma=None, gpu_id=None, grow_policy=None, importance_type=None,\n",
       "              interaction_constraints=None, learning_rate=None, max_bin=None,\n",
       "              max_cat_threshold=None, max_cat_to_onehot=None,\n",
       "              max_delta_step=None, max_depth=3, max_leaves=None,\n",
       "              min_child_weight=None, missing=nan, monotone_constraints=None,\n",
       "              n_estimators=100, n_jobs=None, num_parallel_tree=None,\n",
       "              predictor=None, random_state=0, ...)</pre></div></div></div></div></div></div></div>"
      ],
      "text/plain": [
       "Pipeline(steps=[('imputer_num',\n",
       "                 ArbitraryNumberImputer(arbitrary_number=-1,\n",
       "                                        variables=['age', 'fare',\n",
       "                                                   'cabin_num'])),\n",
       "                ('imputer_cat',\n",
       "                 CategoricalImputer(variables=['embarked', 'cabin_cat'])),\n",
       "                ('encoder_rare_label',\n",
       "                 RareLabelEncoder(n_categories=2, tol=0.1,\n",
       "                                  variables=['embarked', 'cabin_cat'])),\n",
       "                ('categorical_encoder',\n",
       "                 OrdinalEncoder(encoding_method='arbitrary',\n",
       "                                v...\n",
       "                               feature_types=None, gamma=None, gpu_id=None,\n",
       "                               grow_policy=None, importance_type=None,\n",
       "                               interaction_constraints=None, learning_rate=None,\n",
       "                               max_bin=None, max_cat_threshold=None,\n",
       "                               max_cat_to_onehot=None, max_delta_step=None,\n",
       "                               max_depth=3, max_leaves=None,\n",
       "                               min_child_weight=None, missing=nan,\n",
       "                               monotone_constraints=None, n_estimators=100,\n",
       "                               n_jobs=None, num_parallel_tree=None,\n",
       "                               predictor=None, random_state=0, ...))])"
      ]
     },
     "execution_count": 12,
     "metadata": {},
     "output_type": "execute_result"
    }
   ],
   "source": [
    "# we can print the best estimator parameters like this\n",
    "grid_search.best_estimator_"
   ]
  },
  {
   "cell_type": "code",
   "execution_count": 13,
   "metadata": {},
   "outputs": [
    {
     "data": {
      "text/plain": [
       "{'categorical_encoder__encoding_method': 'arbitrary',\n",
       " 'encoder_rare_label__tol': 0.1,\n",
       " 'imputer_num__arbitrary_number': -1,\n",
       " 'xgb__max_depth': 3}"
      ]
     },
     "execution_count": 13,
     "metadata": {},
     "output_type": "execute_result"
    }
   ],
   "source": [
    "# and find the best fit parameters like this\n",
    "grid_search.best_params_"
   ]
  },
  {
   "cell_type": "code",
   "execution_count": 14,
   "metadata": {
    "scrolled": true
   },
   "outputs": [
    {
     "data": {
      "text/plain": [
       "[{'categorical_encoder__encoding_method': 'ordered',\n",
       "  'encoder_rare_label__tol': 0.1,\n",
       "  'imputer_num__arbitrary_number': -1,\n",
       "  'xgb__max_depth': None},\n",
       " {'categorical_encoder__encoding_method': 'ordered',\n",
       "  'encoder_rare_label__tol': 0.1,\n",
       "  'imputer_num__arbitrary_number': -1,\n",
       "  'xgb__max_depth': 1},\n",
       " {'categorical_encoder__encoding_method': 'ordered',\n",
       "  'encoder_rare_label__tol': 0.1,\n",
       "  'imputer_num__arbitrary_number': -1,\n",
       "  'xgb__max_depth': 3},\n",
       " {'categorical_encoder__encoding_method': 'ordered',\n",
       "  'encoder_rare_label__tol': 0.1,\n",
       "  'imputer_num__arbitrary_number': 99,\n",
       "  'xgb__max_depth': None},\n",
       " {'categorical_encoder__encoding_method': 'ordered',\n",
       "  'encoder_rare_label__tol': 0.1,\n",
       "  'imputer_num__arbitrary_number': 99,\n",
       "  'xgb__max_depth': 1},\n",
       " {'categorical_encoder__encoding_method': 'ordered',\n",
       "  'encoder_rare_label__tol': 0.1,\n",
       "  'imputer_num__arbitrary_number': 99,\n",
       "  'xgb__max_depth': 3},\n",
       " {'categorical_encoder__encoding_method': 'ordered',\n",
       "  'encoder_rare_label__tol': 0.2,\n",
       "  'imputer_num__arbitrary_number': -1,\n",
       "  'xgb__max_depth': None},\n",
       " {'categorical_encoder__encoding_method': 'ordered',\n",
       "  'encoder_rare_label__tol': 0.2,\n",
       "  'imputer_num__arbitrary_number': -1,\n",
       "  'xgb__max_depth': 1},\n",
       " {'categorical_encoder__encoding_method': 'ordered',\n",
       "  'encoder_rare_label__tol': 0.2,\n",
       "  'imputer_num__arbitrary_number': -1,\n",
       "  'xgb__max_depth': 3},\n",
       " {'categorical_encoder__encoding_method': 'ordered',\n",
       "  'encoder_rare_label__tol': 0.2,\n",
       "  'imputer_num__arbitrary_number': 99,\n",
       "  'xgb__max_depth': None},\n",
       " {'categorical_encoder__encoding_method': 'ordered',\n",
       "  'encoder_rare_label__tol': 0.2,\n",
       "  'imputer_num__arbitrary_number': 99,\n",
       "  'xgb__max_depth': 1},\n",
       " {'categorical_encoder__encoding_method': 'ordered',\n",
       "  'encoder_rare_label__tol': 0.2,\n",
       "  'imputer_num__arbitrary_number': 99,\n",
       "  'xgb__max_depth': 3},\n",
       " {'categorical_encoder__encoding_method': 'arbitrary',\n",
       "  'encoder_rare_label__tol': 0.1,\n",
       "  'imputer_num__arbitrary_number': -1,\n",
       "  'xgb__max_depth': None},\n",
       " {'categorical_encoder__encoding_method': 'arbitrary',\n",
       "  'encoder_rare_label__tol': 0.1,\n",
       "  'imputer_num__arbitrary_number': -1,\n",
       "  'xgb__max_depth': 1},\n",
       " {'categorical_encoder__encoding_method': 'arbitrary',\n",
       "  'encoder_rare_label__tol': 0.1,\n",
       "  'imputer_num__arbitrary_number': -1,\n",
       "  'xgb__max_depth': 3},\n",
       " {'categorical_encoder__encoding_method': 'arbitrary',\n",
       "  'encoder_rare_label__tol': 0.1,\n",
       "  'imputer_num__arbitrary_number': 99,\n",
       "  'xgb__max_depth': None},\n",
       " {'categorical_encoder__encoding_method': 'arbitrary',\n",
       "  'encoder_rare_label__tol': 0.1,\n",
       "  'imputer_num__arbitrary_number': 99,\n",
       "  'xgb__max_depth': 1},\n",
       " {'categorical_encoder__encoding_method': 'arbitrary',\n",
       "  'encoder_rare_label__tol': 0.1,\n",
       "  'imputer_num__arbitrary_number': 99,\n",
       "  'xgb__max_depth': 3},\n",
       " {'categorical_encoder__encoding_method': 'arbitrary',\n",
       "  'encoder_rare_label__tol': 0.2,\n",
       "  'imputer_num__arbitrary_number': -1,\n",
       "  'xgb__max_depth': None},\n",
       " {'categorical_encoder__encoding_method': 'arbitrary',\n",
       "  'encoder_rare_label__tol': 0.2,\n",
       "  'imputer_num__arbitrary_number': -1,\n",
       "  'xgb__max_depth': 1},\n",
       " {'categorical_encoder__encoding_method': 'arbitrary',\n",
       "  'encoder_rare_label__tol': 0.2,\n",
       "  'imputer_num__arbitrary_number': -1,\n",
       "  'xgb__max_depth': 3},\n",
       " {'categorical_encoder__encoding_method': 'arbitrary',\n",
       "  'encoder_rare_label__tol': 0.2,\n",
       "  'imputer_num__arbitrary_number': 99,\n",
       "  'xgb__max_depth': None},\n",
       " {'categorical_encoder__encoding_method': 'arbitrary',\n",
       "  'encoder_rare_label__tol': 0.2,\n",
       "  'imputer_num__arbitrary_number': 99,\n",
       "  'xgb__max_depth': 1},\n",
       " {'categorical_encoder__encoding_method': 'arbitrary',\n",
       "  'encoder_rare_label__tol': 0.2,\n",
       "  'imputer_num__arbitrary_number': 99,\n",
       "  'xgb__max_depth': 3}]"
      ]
     },
     "execution_count": 14,
     "metadata": {},
     "output_type": "execute_result"
    }
   ],
   "source": [
    "# here we can see all the combinations evaluated during the gridsearch\n",
    "grid_search.cv_results_['params']"
   ]
  },
  {
   "cell_type": "code",
   "execution_count": 15,
   "metadata": {},
   "outputs": [
    {
     "data": {
      "text/plain": [
       "array([0.85094238, 0.84513587, 0.86272557, 0.84883389, 0.84893065,\n",
       "       0.8647856 , 0.8500748 , 0.84489234, 0.86270274, 0.84785216,\n",
       "       0.84853492, 0.86641422, 0.84917754, 0.84486169, 0.8670825 ,\n",
       "       0.85163292, 0.84829981, 0.86572376, 0.84890357, 0.84486169,\n",
       "       0.8658344 , 0.85101648, 0.84829981, 0.86535085])"
      ]
     },
     "execution_count": 15,
     "metadata": {},
     "output_type": "execute_result"
    }
   ],
   "source": [
    "# and here the scores for each of one of the above combinations\n",
    "grid_search.cv_results_['mean_test_score']"
   ]
  },
  {
   "cell_type": "code",
   "execution_count": 16,
   "metadata": {},
   "outputs": [
    {
     "name": "stdout",
     "output_type": "stream",
     "text": [
      "best linear regression from grid search: 0.852\n"
     ]
    }
   ],
   "source": [
    "# and finally let's check the performance over the test set\n",
    "print((\"best linear regression from grid search: %.3f\"\n",
    "       % grid_search.score(X_test, y_test)))"
   ]
  },
  {
   "cell_type": "code",
   "execution_count": 18,
   "metadata": {},
   "outputs": [
    {
     "data": {
      "image/png": "[encoded data removed]",
      "text/plain": [
       "<Figure size 1200x600 with 1 Axes>"
      ]
     },
     "metadata": {},
     "output_type": "display_data"
    }
   ],
   "source": [
    "# let's explore the importance of the features\n",
    "\n",
    "importance = pd.Series(grid_search.best_estimator_['xgb'].feature_importances_)\n",
    "importance.index = data.drop('survived', axis=1).columns\n",
    "importance.sort_values(inplace=True, ascending=False)\n",
    "importance.plot.bar(figsize=(12,6));"
   ]
  },
  {
   "cell_type": "code",
   "execution_count": null,
   "metadata": {},
   "outputs": [],
   "source": []
  }
 ],
 "metadata": {
  "kernelspec": {
   "display_name": "ml2023",
   "language": "python",
   "name": "python3"
  },
  "language_info": {
   "codemirror_mode": {
    "name": "ipython",
    "version": 3
   },
   "file_extension": ".py",
   "mimetype": "text/x-python",
   "name": "python",
   "nbconvert_exporter": "python",
   "pygments_lexer": "ipython3",
   "version": "3.11.0"
  },
  "toc": {
   "base_numbering": 1,
   "nav_menu": {},
   "number_sections": true,
   "sideBar": true,
   "skip_h1_title": false,
   "title_cell": "Table of Contents",
   "title_sidebar": "Contents",
   "toc_cell": false,
   "toc_position": {
    "height": "583px",
    "left": "0px",
    "right": "1324px",
    "top": "107px",
    "width": "326px"
   },
   "toc_section_display": "block",
   "toc_window_display": true
  }
 },
 "nbformat": 4,
 "nbformat_minor": 2
}
